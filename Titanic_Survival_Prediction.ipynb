{
 "cells": [
  {
   "cell_type": "markdown",
   "metadata": {},
   "source": [
    "# Predicting survival on the Titanic\n",
    "<p><strong>Nam Nguyen</strong></p>\n",
    "<p>Titanic, in full Royal Mail Ship (RMS) Titanic, British luxury passenger liner sank on in the early hours of April 15, 1912, during its maiden voyage, en route to New York City from Southampton, England. Of the 2,224 passengers and crew on board, 1,502 lost their lives in the disaster. Titanic has inspired countless books, articles and films (including the 1997 “Titanic” movie starring Kate Winslet and Leonardo DiCaprio), and the ship story has entered the public consciousness as one of the most famous tragedies in modern history.</p>\n",
    "<p>In this notebook, we will look back Titanic disaster but in the eyes of data analysts to build a machine learning model that can predict if a passenger survived the sinking of the Titanic or not.</p>\n",
    "<p><img src='titanic2.jpg' alt='Titanic disaster'></p>\n",
    "<p>We'll use the <a href='https://www.kaggle.com/c/titanic/data'>Titanic dataset</a> from Kaggle for this notebook. The data dictionary is presented in following table:</p>\n",
    "\n",
    "| Variables   |Definition | Key | Note |\n",
    "| :-- | :-- | :-- | :-- |\n",
    "| **survival** | Survival | 0 = No, 1 = Yes | |\n",
    "| **sex** | Sex | | |\n",
    "| **Age** | Age in years |   | Age is fractional if less than 1. <br/>If the age is estimated, is it in the form of xx.5 |\n",
    "| **sibsp** | Number of siblings / <br/> spouses aboard the Titanic |   | Sibling = brother, sister, stepbrother, stepsister <br/>Spouse = husband, wife (mistresses and fiancés were ignored) |\n",
    "| **parch** | Number of parents / <br/>children aboard the Titanic |   | Parent = mother, father <br/>Child = daughter, son, stepdaughter, stepson <br/> Some children travelled only with a nanny, therefore parch=0 for them |\n",
    "| **ticket** | Ticket number | | |\n",
    "| **fare** | Passenger fare | | |\n",
    "| **cabin** | Cabin number | | |\n",
    "| **embarked** | Port of Embarkation | C = Cherbourg<br/>Q = Queenstown<br/>S = Southampton | |"
   ]
  },
  {
   "cell_type": "markdown",
   "metadata": {},
   "source": [
    "## Table of Contents\n",
    "<ol>\n",
    "    <li>Load and check data</li>\n",
    "    <li>Data Cleaning</li>\n",
    "    <li>Exploratory Data Analysis</li>\n",
    "    <li>Feature engineering</li>\n",
    "    <li>Converting data format</li>\n",
    "    <li>Modeling</li>\n",
    "    <li>Submission</li>\n",
    "</ol>"
   ]
  },
  {
   "cell_type": "markdown",
   "metadata": {},
   "source": [
    "## 1. Load and check data\n",
    "<p>To begin, we import all of the modules, functions and objects we are going to use. Then, we load the data and take the look at the data to determine useful information:</p>\n",
    "<ul>\n",
    "    <li>Dimensions of the data.</li>\n",
    "    <li>Types of data: which features are Categorial features, Numerical features</li>\n",
    "    <li>Statistical summary of all features</li>\n",
    "</ul>"
   ]
  },
  {
   "cell_type": "code",
   "execution_count": 1,
   "metadata": {},
   "outputs": [],
   "source": [
    "#import libraries\n",
    "import numpy as np\n",
    "import pandas as pd\n",
    "\n",
    "from matplotlib import pyplot as plt\n",
    "import seaborn as sns\n",
    "%matplotlib inline\n",
    "\n",
    "from sklearn.model_selection import train_test_split, cross_val_score, GridSearchCV, KFold, ShuffleSplit\n",
    "\n",
    "from sklearn.ensemble import RandomForestClassifier\n",
    "from sklearn.ensemble import GradientBoostingClassifier\n",
    "from sklearn.svm import SVC\n",
    "from sklearn.tree import DecisionTreeClassifier\n",
    "from sklearn.linear_model import LogisticRegression\n",
    "\n",
    "from sklearn.metrics import confusion_matrix, accuracy_score\n",
    "from sklearn import feature_selection\n",
    "from sklearn.preprocessing import OneHotEncoder, LabelEncoder\n",
    "\n",
    "#ignore warnings\n",
    "import warnings\n",
    "warnings.filterwarnings('ignore')"
   ]
  },
  {
   "cell_type": "code",
   "execution_count": 2,
   "metadata": {},
   "outputs": [],
   "source": [
    "sns.set(style='whitegrid',palette='Set2')"
   ]
  },
  {
   "cell_type": "code",
   "execution_count": 3,
   "metadata": {},
   "outputs": [],
   "source": [
    "# Load dataset and combine train and test set for visualization\n",
    "train_data = pd.read_csv('input/train.csv')\n",
    "test_data = pd.read_csv('input/test.csv')\n",
    "combined_data = pd.concat([train_data, test_data], sort=False).reset_index(drop=True)"
   ]
  },
  {
   "cell_type": "code",
   "execution_count": 4,
   "metadata": {},
   "outputs": [
    {
     "data": {
      "text/plain": [
       "(1309, 12)"
      ]
     },
     "execution_count": 4,
     "metadata": {},
     "output_type": "execute_result"
    }
   ],
   "source": [
    "# Check the shape of combined dataset to know the dimensions of data\n",
    "combined_data.shape"
   ]
  },
  {
   "cell_type": "code",
   "execution_count": 5,
   "metadata": {},
   "outputs": [
    {
     "data": {
      "text/html": [
       "<div>\n",
       "<style scoped>\n",
       "    .dataframe tbody tr th:only-of-type {\n",
       "        vertical-align: middle;\n",
       "    }\n",
       "\n",
       "    .dataframe tbody tr th {\n",
       "        vertical-align: top;\n",
       "    }\n",
       "\n",
       "    .dataframe thead th {\n",
       "        text-align: right;\n",
       "    }\n",
       "</style>\n",
       "<table border=\"1\" class=\"dataframe\">\n",
       "  <thead>\n",
       "    <tr style=\"text-align: right;\">\n",
       "      <th></th>\n",
       "      <th>PassengerId</th>\n",
       "      <th>Survived</th>\n",
       "      <th>Pclass</th>\n",
       "      <th>Name</th>\n",
       "      <th>Sex</th>\n",
       "      <th>Age</th>\n",
       "      <th>SibSp</th>\n",
       "      <th>Parch</th>\n",
       "      <th>Ticket</th>\n",
       "      <th>Fare</th>\n",
       "      <th>Cabin</th>\n",
       "      <th>Embarked</th>\n",
       "    </tr>\n",
       "  </thead>\n",
       "  <tbody>\n",
       "    <tr>\n",
       "      <th>0</th>\n",
       "      <td>1</td>\n",
       "      <td>0.0</td>\n",
       "      <td>3</td>\n",
       "      <td>Braund, Mr. Owen Harris</td>\n",
       "      <td>male</td>\n",
       "      <td>22.0</td>\n",
       "      <td>1</td>\n",
       "      <td>0</td>\n",
       "      <td>A/5 21171</td>\n",
       "      <td>7.2500</td>\n",
       "      <td>NaN</td>\n",
       "      <td>S</td>\n",
       "    </tr>\n",
       "    <tr>\n",
       "      <th>1</th>\n",
       "      <td>2</td>\n",
       "      <td>1.0</td>\n",
       "      <td>1</td>\n",
       "      <td>Cumings, Mrs. John Bradley (Florence Briggs Th...</td>\n",
       "      <td>female</td>\n",
       "      <td>38.0</td>\n",
       "      <td>1</td>\n",
       "      <td>0</td>\n",
       "      <td>PC 17599</td>\n",
       "      <td>71.2833</td>\n",
       "      <td>C85</td>\n",
       "      <td>C</td>\n",
       "    </tr>\n",
       "    <tr>\n",
       "      <th>2</th>\n",
       "      <td>3</td>\n",
       "      <td>1.0</td>\n",
       "      <td>3</td>\n",
       "      <td>Heikkinen, Miss. Laina</td>\n",
       "      <td>female</td>\n",
       "      <td>26.0</td>\n",
       "      <td>0</td>\n",
       "      <td>0</td>\n",
       "      <td>STON/O2. 3101282</td>\n",
       "      <td>7.9250</td>\n",
       "      <td>NaN</td>\n",
       "      <td>S</td>\n",
       "    </tr>\n",
       "    <tr>\n",
       "      <th>3</th>\n",
       "      <td>4</td>\n",
       "      <td>1.0</td>\n",
       "      <td>1</td>\n",
       "      <td>Futrelle, Mrs. Jacques Heath (Lily May Peel)</td>\n",
       "      <td>female</td>\n",
       "      <td>35.0</td>\n",
       "      <td>1</td>\n",
       "      <td>0</td>\n",
       "      <td>113803</td>\n",
       "      <td>53.1000</td>\n",
       "      <td>C123</td>\n",
       "      <td>S</td>\n",
       "    </tr>\n",
       "    <tr>\n",
       "      <th>4</th>\n",
       "      <td>5</td>\n",
       "      <td>0.0</td>\n",
       "      <td>3</td>\n",
       "      <td>Allen, Mr. William Henry</td>\n",
       "      <td>male</td>\n",
       "      <td>35.0</td>\n",
       "      <td>0</td>\n",
       "      <td>0</td>\n",
       "      <td>373450</td>\n",
       "      <td>8.0500</td>\n",
       "      <td>NaN</td>\n",
       "      <td>S</td>\n",
       "    </tr>\n",
       "  </tbody>\n",
       "</table>\n",
       "</div>"
      ],
      "text/plain": [
       "   PassengerId  Survived  Pclass  \\\n",
       "0            1       0.0       3   \n",
       "1            2       1.0       1   \n",
       "2            3       1.0       3   \n",
       "3            4       1.0       1   \n",
       "4            5       0.0       3   \n",
       "\n",
       "                                                Name     Sex   Age  SibSp  \\\n",
       "0                            Braund, Mr. Owen Harris    male  22.0      1   \n",
       "1  Cumings, Mrs. John Bradley (Florence Briggs Th...  female  38.0      1   \n",
       "2                             Heikkinen, Miss. Laina  female  26.0      0   \n",
       "3       Futrelle, Mrs. Jacques Heath (Lily May Peel)  female  35.0      1   \n",
       "4                           Allen, Mr. William Henry    male  35.0      0   \n",
       "\n",
       "   Parch            Ticket     Fare Cabin Embarked  \n",
       "0      0         A/5 21171   7.2500   NaN        S  \n",
       "1      0          PC 17599  71.2833   C85        C  \n",
       "2      0  STON/O2. 3101282   7.9250   NaN        S  \n",
       "3      0            113803  53.1000  C123        S  \n",
       "4      0            373450   8.0500   NaN        S  "
      ]
     },
     "execution_count": 5,
     "metadata": {},
     "output_type": "execute_result"
    }
   ],
   "source": [
    "# View the first lines of dataset\n",
    "combined_data.head()"
   ]
  },
  {
   "cell_type": "markdown",
   "metadata": {},
   "source": [
    "<p> From our first glance at the data, we can see that the dataset have 1309 samples and 12 collumn including 11 features and our target variable, <code>Survived</code>. The dataset has a mixture of numerical and categorial features:</p>\n",
    "<ul>\n",
    "    <li><strong>Numerical Features</strong>: Age (Continuous), Fare (Continuous), SibSp (Discrete), Parch (Discrete)</li>\n",
    "    <li><strong>Categorical Features</strong>: Survived (our target), Sex, Embarked, Pclass, Cabin, Ticket</li>\n",
    "</ul>\n",
    "<p> Another point we can see is we can extract information from feature <code>Name</code>, for example the relationship between passengers in family. However, this feature may contain errors or typos as there are many way to describe a name including titles, round brackets, and quotes. </p>\n",
    "<p> In addition, feature <code>PassengerId</code> may not contribute to survival rate and can be dropped in later. While a new feature to group the members from the same family can be create from 2 features <code>Parch</code> and <code>SibSp</code>.</p>"
   ]
  },
  {
   "cell_type": "code",
   "execution_count": 6,
   "metadata": {},
   "outputs": [
    {
     "name": "stdout",
     "output_type": "stream",
     "text": [
      "<class 'pandas.core.frame.DataFrame'>\n",
      "RangeIndex: 891 entries, 0 to 890\n",
      "Data columns (total 12 columns):\n",
      " #   Column       Non-Null Count  Dtype  \n",
      "---  ------       --------------  -----  \n",
      " 0   PassengerId  891 non-null    int64  \n",
      " 1   Survived     891 non-null    int64  \n",
      " 2   Pclass       891 non-null    int64  \n",
      " 3   Name         891 non-null    object \n",
      " 4   Sex          891 non-null    object \n",
      " 5   Age          714 non-null    float64\n",
      " 6   SibSp        891 non-null    int64  \n",
      " 7   Parch        891 non-null    int64  \n",
      " 8   Ticket       891 non-null    object \n",
      " 9   Fare         891 non-null    float64\n",
      " 10  Cabin        204 non-null    object \n",
      " 11  Embarked     889 non-null    object \n",
      "dtypes: float64(2), int64(5), object(5)\n",
      "memory usage: 83.7+ KB\n",
      "--------------------\n",
      "<class 'pandas.core.frame.DataFrame'>\n",
      "RangeIndex: 418 entries, 0 to 417\n",
      "Data columns (total 11 columns):\n",
      " #   Column       Non-Null Count  Dtype  \n",
      "---  ------       --------------  -----  \n",
      " 0   PassengerId  418 non-null    int64  \n",
      " 1   Pclass       418 non-null    int64  \n",
      " 2   Name         418 non-null    object \n",
      " 3   Sex          418 non-null    object \n",
      " 4   Age          332 non-null    float64\n",
      " 5   SibSp        418 non-null    int64  \n",
      " 6   Parch        418 non-null    int64  \n",
      " 7   Ticket       418 non-null    object \n",
      " 8   Fare         417 non-null    float64\n",
      " 9   Cabin        91 non-null     object \n",
      " 10  Embarked     418 non-null    object \n",
      "dtypes: float64(2), int64(4), object(5)\n",
      "memory usage: 36.0+ KB\n"
     ]
    }
   ],
   "source": [
    "# We take the first look at the information of our dataset\n",
    "train_data.info()\n",
    "print(\"-\"*20)\n",
    "test_data.info()"
   ]
  },
  {
   "cell_type": "markdown",
   "metadata": {},
   "source": [
    "<p>We can see features that have null values are <code>Age</code>, <code>Cabin</code>, <code>Fare</code> and <code>Embarked</code>. In these features, <code>Age</code>, <code>Fare</code> and <code>Embarked</code> should need to be completed as these features may correlate with Survival rate or other important features. While <code>Cabin</code> should be dropped from dataset because about 80% of this feature's values are missing.</p> "
   ]
  },
  {
   "cell_type": "markdown",
   "metadata": {},
   "source": [
    "## 2. Data Cleaning\n",
    "<p>In this step, we are going to clean our data by:</p>\n",
    "<ul>\n",
    "    <li>Dropping unnescessary collumns</li>\n",
    "    <li>Completing missing values </li>\n",
    "    <li>Correcting aberrant values and outliers</li>\n",
    "</ul>"
   ]
  },
  {
   "cell_type": "code",
   "execution_count": 7,
   "metadata": {},
   "outputs": [],
   "source": [
    "# First, we drop unnecessary features that we determine above, those are Cabin and PassengerId\n",
    "combined_data.drop(['Cabin','PassengerId'], axis=1, inplace=True)"
   ]
  },
  {
   "cell_type": "markdown",
   "metadata": {},
   "source": [
    "<p> Then, we are going to complete the missing values in dataset. The basic method is using mean, median for numerical data and mode for categorial data. The more complex method is using basic method based on specific criteria, for example the missing values of <code>Age</code> can be filled by mean of <code>Age</code> by <code>PClass</code>. In the case of our dataset, we will fill the missing values of each feature as following:</p>\n",
    "<ul>\n",
    "    <li><code>Fare</code>: the median of group by <code>PClass</code>, <code>Parch</code> and <code>SibSp</code>. The <code>Fare</code> might be relate to the family size (<code>Parch</code> and <code>SibSp</code>) and <code>PClass</code> feature.</li>\n",
    "    <li><code>Embarked</code>: the mode of whole data set.</li>\n",
    "    <li><code>Age</code>: We also use median to fill the missing values of <code>Age</code>, but using the median of whole data set is not a good choice. The approach to feature <code>Age</code> is more complex. First,we create new feature named <code>Title</code> exacting from <code>Name</code> , and then, we fill the missing age for certain passager by the median of the <code>Title</code> this passenger has.</li>\n",
    "</ul>"
   ]
  },
  {
   "cell_type": "code",
   "execution_count": 8,
   "metadata": {},
   "outputs": [
    {
     "data": {
      "text/html": [
       "<div>\n",
       "<style scoped>\n",
       "    .dataframe tbody tr th:only-of-type {\n",
       "        vertical-align: middle;\n",
       "    }\n",
       "\n",
       "    .dataframe tbody tr th {\n",
       "        vertical-align: top;\n",
       "    }\n",
       "\n",
       "    .dataframe thead th {\n",
       "        text-align: right;\n",
       "    }\n",
       "</style>\n",
       "<table border=\"1\" class=\"dataframe\">\n",
       "  <thead>\n",
       "    <tr style=\"text-align: right;\">\n",
       "      <th></th>\n",
       "      <th>Survived</th>\n",
       "      <th>Pclass</th>\n",
       "      <th>Name</th>\n",
       "      <th>Sex</th>\n",
       "      <th>Age</th>\n",
       "      <th>SibSp</th>\n",
       "      <th>Parch</th>\n",
       "      <th>Ticket</th>\n",
       "      <th>Fare</th>\n",
       "      <th>Embarked</th>\n",
       "    </tr>\n",
       "  </thead>\n",
       "  <tbody>\n",
       "    <tr>\n",
       "      <th>1043</th>\n",
       "      <td>NaN</td>\n",
       "      <td>3</td>\n",
       "      <td>Storey, Mr. Thomas</td>\n",
       "      <td>male</td>\n",
       "      <td>60.5</td>\n",
       "      <td>0</td>\n",
       "      <td>0</td>\n",
       "      <td>3701</td>\n",
       "      <td>NaN</td>\n",
       "      <td>S</td>\n",
       "    </tr>\n",
       "  </tbody>\n",
       "</table>\n",
       "</div>"
      ],
      "text/plain": [
       "      Survived  Pclass                Name   Sex   Age  SibSp  Parch Ticket  \\\n",
       "1043       NaN       3  Storey, Mr. Thomas  male  60.5      0      0   3701   \n",
       "\n",
       "      Fare Embarked  \n",
       "1043   NaN        S  "
      ]
     },
     "execution_count": 8,
     "metadata": {},
     "output_type": "execute_result"
    }
   ],
   "source": [
    "#First, we take a look at the only passerger who has missing value of Fare\n",
    "combined_data[combined_data['Fare'].isnull()]"
   ]
  },
  {
   "cell_type": "code",
   "execution_count": 9,
   "metadata": {},
   "outputs": [],
   "source": [
    "#Then, we complete this missing value with the median Fare of 3rd class alone passenger \n",
    "combined_data['Fare']=combined_data['Fare'].fillna(combined_data.groupby(['Pclass','SibSp','Parch']).Fare.median()[3][0][0])"
   ]
  },
  {
   "cell_type": "code",
   "execution_count": 10,
   "metadata": {},
   "outputs": [],
   "source": [
    "# Complete missing values in Embarked column with mode\n",
    "combined_data['Embarked'].fillna(combined_data['Embarked'].mode()[0], inplace = True)"
   ]
  },
  {
   "cell_type": "markdown",
   "metadata": {},
   "source": [
    "<p>Now, we are going to create new feature <code>Title</code> from <code>Name</code>. First, we take a look at <code>Name</code> to get its partern</p>"
   ]
  },
  {
   "cell_type": "code",
   "execution_count": 11,
   "metadata": {},
   "outputs": [
    {
     "data": {
      "text/plain": [
       "602                             Harrington, Mr. Charles H\n",
       "956     Corey, Mrs. Percy C (Mary Phyllis Elizabeth Mi...\n",
       "552                                  O'Brien, Mr. Timothy\n",
       "691                                    Karun, Miss. Manca\n",
       "1283                        Abbott, Master. Eugene Joseph\n",
       "140                         Boulos, Mrs. Joseph (Sultana)\n",
       "425                                Wiseman, Mr. Phillippe\n",
       "746                           Abbott, Mr. Rossmore Edward\n",
       "105                                 Mionoff, Mr. Stoytcho\n",
       "191                                 Carbines, Mr. William\n",
       "Name: Name, dtype: object"
      ]
     },
     "execution_count": 11,
     "metadata": {},
     "output_type": "execute_result"
    }
   ],
   "source": [
    "combined_data['Name'].sample(10)"
   ]
  },
  {
   "cell_type": "markdown",
   "metadata": {},
   "source": [
    "<p>We can see the pattern of feature <code>Name</code> is:</p>\n",
    "<p><em><strong>Last name, Title. First name</strong></em>. </p>\n",
    "<p>Now we can exact the <code>Title</code> from <code>Name</code>. </p>"
   ]
  },
  {
   "cell_type": "code",
   "execution_count": 12,
   "metadata": {},
   "outputs": [
    {
     "data": {
      "text/plain": [
       "Mr              757\n",
       "Miss            260\n",
       "Mrs             197\n",
       "Master           61\n",
       "Dr                8\n",
       "Rev               8\n",
       "Col               4\n",
       "Major             2\n",
       "Mlle              2\n",
       "Ms                2\n",
       "Sir               1\n",
       "Capt              1\n",
       "the Countess      1\n",
       "Dona              1\n",
       "Lady              1\n",
       "Jonkheer          1\n",
       "Mme               1\n",
       "Don               1\n",
       "Name: Title, dtype: int64"
      ]
     },
     "execution_count": 12,
     "metadata": {},
     "output_type": "execute_result"
    }
   ],
   "source": [
    "combined_data['Title'] = combined_data['Name'].str.split(', ', expand = True)[1].str.split('.', expand = True)[0]\n",
    "combined_data['Title'].value_counts()"
   ]
  },
  {
   "cell_type": "markdown",
   "metadata": {},
   "source": [
    "<p>From the list of above, we didive Title into 3 groups: <strong>Mr</strong>, <strong>Mrs</strong> and <strong>Master</strong>  </p>"
   ]
  },
  {
   "cell_type": "code",
   "execution_count": 13,
   "metadata": {},
   "outputs": [
    {
     "data": {
      "text/plain": [
       "Mr        783\n",
       "Mrs       465\n",
       "Master     61\n",
       "Name: Title, dtype: int64"
      ]
     },
     "execution_count": 13,
     "metadata": {},
     "output_type": "execute_result"
    }
   ],
   "source": [
    "common_title = ['Mr', 'Mrs', 'Master']\n",
    "combined_data['Title'].replace(['Mlle','Ms','Mme', 'Miss', 'Lady', 'Dona', 'the Countess'],'Mrs', inplace=True)\n",
    "combined_data['Title'].replace(['Sir', 'Rev', 'Capt', 'Don', 'Major', 'Col', 'Dr', 'Jonkheer'],'Mr', inplace=True)\n",
    "# Check the Title we have\n",
    "combined_data['Title'].value_counts()"
   ]
  },
  {
   "cell_type": "code",
   "execution_count": 14,
   "metadata": {},
   "outputs": [],
   "source": [
    "# Complete the missing value of Age\n",
    "age_median_by_Title = combined_data.groupby('Title')['Age'].median()\n",
    "for title in age_median_by_Title.index:\n",
    "    combined_data['Age'][(combined_data.Age.isnull()) & (combined_data.Title == title)] = age_median_by_Title[title]"
   ]
  },
  {
   "cell_type": "code",
   "execution_count": 15,
   "metadata": {},
   "outputs": [
    {
     "name": "stdout",
     "output_type": "stream",
     "text": [
      "The data column with null value:\n",
      " Survived    418\n",
      "Pclass        0\n",
      "Name          0\n",
      "Sex           0\n",
      "Age           0\n",
      "SibSp         0\n",
      "Parch         0\n",
      "Ticket        0\n",
      "Fare          0\n",
      "Embarked      0\n",
      "Title         0\n",
      "dtype: int64\n"
     ]
    }
   ],
   "source": [
    "# We recheck to make sure we completed all of missing values\n",
    "print('The data column with null value:\\n', combined_data.isnull().sum())"
   ]
  },
  {
   "cell_type": "markdown",
   "metadata": {},
   "source": [
    "## 3. Exploratory Data Analysis\n",
    "<p>We now have the basic idea about our dataset. In this step, we are going to extend that with some visualization. We will use both univariable plots to better understand each attribute and multivariate plots to show the realationship between each attribute and  survival rate</p>\n",
    "<p>For Categorical features, we use count plot for each individual variable and bar plot for the relationship between this attribute and Survived. when it comes to numerical features, these plot are histogram and boxplot, respectively</p>"
   ]
  },
  {
   "cell_type": "code",
   "execution_count": 16,
   "metadata": {},
   "outputs": [],
   "source": [
    "# Define function plotCategoricalFeatures to create 2 types of plot for each feature. \n",
    "def plotCategoricalFeatures(cat):\n",
    "    fig, axes = plt.subplots(ncols=2,figsize=(20,6))\n",
    "    sns.countplot(train_data[cat], ax=axes[0])\n",
    "    sns.barplot(x=train_data[cat], y=train_data['Survived'], ax=axes[1])\n",
    "    \n",
    "    total = float(len(train_data[cat]))\n",
    "    for p in axes[0].patches:\n",
    "        height = p.get_height()\n",
    "        axes[0].text(p.get_x() + p.get_width() / 2., \n",
    "                     height + 10,\n",
    "                    '{:1.2f}%'.format((height / total) * 100),\n",
    "                    ha=\"center\")"
   ]
  },
  {
   "cell_type": "code",
   "execution_count": 17,
   "metadata": {},
   "outputs": [
    {
     "data": {
      "image/png": "[encoded data removed]",
      "text/plain": [
       "<Figure size 1440x432 with 2 Axes>"
      ]
     },
     "metadata": {},
     "output_type": "display_data"
    }
   ],
   "source": [
    "plotCategoricalFeatures('Pclass')"
   ]
  },
  {
   "cell_type": "markdown",
   "metadata": {},
   "source": [
    "<p>The plots show that more than a half of passengers (54.11%) place in class 3 but the survival rate of class 1 is highest. This feature is the very helpful to our models.</p>"
   ]
  },
  {
   "cell_type": "code",
   "execution_count": 18,
   "metadata": {},
   "outputs": [
    {
     "data": {
      "image/png": "[encoded data removed]",
      "text/plain": [
       "<Figure size 1440x432 with 2 Axes>"
      ]
     },
     "metadata": {},
     "output_type": "display_data"
    }
   ],
   "source": [
    "plotCategoricalFeatures('Sex')"
   ]
  },
  {
   "cell_type": "markdown",
   "metadata": {},
   "source": [
    "<p>Feature <code>Sex</code> is one of the most useful feature for our models.</p>"
   ]
  },
  {
   "cell_type": "code",
   "execution_count": 19,
   "metadata": {},
   "outputs": [
    {
     "data": {
      "image/png": "[encoded data removed]",
      "text/plain": [
       "<Figure size 1440x432 with 2 Axes>"
      ]
     },
     "metadata": {},
     "output_type": "display_data"
    }
   ],
   "source": [
    "plotCategoricalFeatures('SibSp')"
   ]
  },
  {
   "cell_type": "code",
   "execution_count": 20,
   "metadata": {},
   "outputs": [
    {
     "data": {
      "image/png": "[encoded data removed]",
      "text/plain": [
       "<Figure size 1440x432 with 2 Axes>"
      ]
     },
     "metadata": {},
     "output_type": "display_data"
    }
   ],
   "source": [
    "plotCategoricalFeatures('Parch')"
   ]
  },
  {
   "cell_type": "markdown",
   "metadata": {},
   "source": [
    "<p>Parch and SibSp features show that passengers with only one family member has a higher survival rate</p>"
   ]
  },
  {
   "cell_type": "code",
   "execution_count": 21,
   "metadata": {},
   "outputs": [
    {
     "data": {
      "image/png": "[encoded data removed]",
      "text/plain": [
       "<Figure size 1440x432 with 2 Axes>"
      ]
     },
     "metadata": {},
     "output_type": "display_data"
    }
   ],
   "source": [
    "plotCategoricalFeatures('Embarked')"
   ]
  },
  {
   "cell_type": "markdown",
   "metadata": {},
   "source": [
    "<p>Passengers boarded from <strong>Southampton</strong> has a lower survival rate unlike other ports. More than half of the passengers boarded from <strong>Cherbourg</strong> had survived</p>"
   ]
  },
  {
   "cell_type": "code",
   "execution_count": 22,
   "metadata": {},
   "outputs": [
    {
     "data": {
      "text/plain": [
       "<matplotlib.legend.Legend at 0x1ff6e7e0cc0>"
      ]
     },
     "execution_count": 22,
     "metadata": {},
     "output_type": "execute_result"
    },
    {
     "data": {
      "image/png": "[encoded data removed]",
      "text/plain": [
       "<Figure size 1296x432 with 1 Axes>"
      ]
     },
     "metadata": {},
     "output_type": "display_data"
    }
   ],
   "source": [
    "# Feature Age\n",
    "fig, axs = plt.subplots(figsize=(18,6))\n",
    "sns.distplot(train_data[~(train_data['Survived']==1)]['Age'], label='Not Survived', hist=True, color='#e74c3c')\n",
    "sns.distplot(train_data[train_data['Survived']==1]['Age'], label='Survived', hist=True, color='#2ecc71')\n",
    "axs.legend(loc='upper right', prop={'size': 15})"
   ]
  },
  {
   "cell_type": "markdown",
   "metadata": {},
   "source": [
    "<p>The distribution of feature <code>Age</code> has a little right skewed with high number of young adults. Passengers are mainly from 20 to 40 years old and childern who are younger than 16 has a higher survival rate than other age groups</p>"
   ]
  },
  {
   "cell_type": "code",
   "execution_count": 23,
   "metadata": {},
   "outputs": [
    {
     "data": {
      "text/plain": [
       "<matplotlib.legend.Legend at 0x1ff710c31d0>"
      ]
     },
     "execution_count": 23,
     "metadata": {},
     "output_type": "execute_result"
    },
    {
     "data": {
      "image/png": "[encoded data removed]",
      "text/plain": [
       "<Figure size 1296x432 with 1 Axes>"
      ]
     },
     "metadata": {},
     "output_type": "display_data"
    }
   ],
   "source": [
    "fig, axs = plt.subplots(figsize=(18,6))\n",
    "sns.distplot(train_data[~(train_data['Survived']==1)]['Fare'], label='Not Survived', hist=True, color='#e74c3c')\n",
    "sns.distplot(train_data[train_data['Survived']==1]['Fare'], label='Survived', hist=True, color='#2ecc71')\n",
    "axs.legend(loc='upper right', prop={'size': 15})"
   ]
  },
  {
   "cell_type": "markdown",
   "metadata": {},
   "source": [
    "<p>The distribution of feature <code>Fare</code> has positive skew because of the extremely large outliers. While most of the passenger fares are below 30, there are some outliers over 500. To get the better results, we might need to scale our data for the models or assigning bins.</p>"
   ]
  },
  {
   "cell_type": "markdown",
   "metadata": {},
   "source": [
    "## 4. Feature engineering\n",
    "<p>As we mentioned above, <code>SibSp</code> and <code>Parch</code> are both related to family members, therefore we can combine them into a new feature namely <code>FamilySize</code> to show how big the family a certain passenger belong to.</p>"
   ]
  },
  {
   "cell_type": "code",
   "execution_count": 24,
   "metadata": {},
   "outputs": [
    {
     "data": {
      "text/plain": [
       "<matplotlib.axes._subplots.AxesSubplot at 0x1ff70f5e6d8>"
      ]
     },
     "execution_count": 24,
     "metadata": {},
     "output_type": "execute_result"
    },
    {
     "data": {
      "image/png": "[encoded data removed]",
      "text/plain": [
       "<Figure size 432x288 with 1 Axes>"
      ]
     },
     "metadata": {},
     "output_type": "display_data"
    }
   ],
   "source": [
    "combined_data['FamilySize']=combined_data['SibSp'] + combined_data['Parch'] + 1\n",
    "sns.countplot(combined_data['FamilySize'])"
   ]
  },
  {
   "cell_type": "markdown",
   "metadata": {},
   "source": [
    "<p>Since being alone or <code>FamilySize= 1</code> is dominant in our data set, this feature might have an effect on survival. We are going to create new another feature for it, called <code>IsAlone</code>. This is a boolean feature which have value 1 for passengers travelling alone and 0 for the others.</p>"
   ]
  },
  {
   "cell_type": "code",
   "execution_count": 25,
   "metadata": {},
   "outputs": [
    {
     "data": {
      "text/plain": [
       "<matplotlib.axes._subplots.AxesSubplot at 0x1ff70fb25c0>"
      ]
     },
     "execution_count": 25,
     "metadata": {},
     "output_type": "execute_result"
    },
    {
     "data": {
      "image/png": "[encoded data removed]",
      "text/plain": [
       "<Figure size 432x288 with 1 Axes>"
      ]
     },
     "metadata": {},
     "output_type": "display_data"
    }
   ],
   "source": [
    "combined_data['IsAlone'] = combined_data['FamilySize'].map(lambda x: 1 if x==1 else 0)\n",
    "sns.countplot(combined_data['IsAlone'])"
   ]
  },
  {
   "cell_type": "code",
   "execution_count": 26,
   "metadata": {},
   "outputs": [],
   "source": [
    "combined_data.drop(['SibSp','Parch','FamilySize'], axis=1, inplace=True)"
   ]
  },
  {
   "cell_type": "code",
   "execution_count": 27,
   "metadata": {},
   "outputs": [
    {
     "data": {
      "text/html": [
       "<div>\n",
       "<style scoped>\n",
       "    .dataframe tbody tr th:only-of-type {\n",
       "        vertical-align: middle;\n",
       "    }\n",
       "\n",
       "    .dataframe tbody tr th {\n",
       "        vertical-align: top;\n",
       "    }\n",
       "\n",
       "    .dataframe thead th {\n",
       "        text-align: right;\n",
       "    }\n",
       "</style>\n",
       "<table border=\"1\" class=\"dataframe\">\n",
       "  <thead>\n",
       "    <tr style=\"text-align: right;\">\n",
       "      <th></th>\n",
       "      <th>Survived</th>\n",
       "      <th>Pclass</th>\n",
       "      <th>Name</th>\n",
       "      <th>Sex</th>\n",
       "      <th>Age</th>\n",
       "      <th>Ticket</th>\n",
       "      <th>Fare</th>\n",
       "      <th>Embarked</th>\n",
       "      <th>Title</th>\n",
       "      <th>IsAlone</th>\n",
       "    </tr>\n",
       "  </thead>\n",
       "  <tbody>\n",
       "    <tr>\n",
       "      <th>1061</th>\n",
       "      <td>NaN</td>\n",
       "      <td>3</td>\n",
       "      <td>Lithman, Mr. Simon</td>\n",
       "      <td>male</td>\n",
       "      <td>30.0</td>\n",
       "      <td>S.O./P.P. 251</td>\n",
       "      <td>7.5500</td>\n",
       "      <td>S</td>\n",
       "      <td>Mr</td>\n",
       "      <td>1</td>\n",
       "    </tr>\n",
       "    <tr>\n",
       "      <th>323</th>\n",
       "      <td>1.0</td>\n",
       "      <td>2</td>\n",
       "      <td>Caldwell, Mrs. Albert Francis (Sylvia Mae Harb...</td>\n",
       "      <td>female</td>\n",
       "      <td>22.0</td>\n",
       "      <td>248738</td>\n",
       "      <td>29.0000</td>\n",
       "      <td>S</td>\n",
       "      <td>Mrs</td>\n",
       "      <td>0</td>\n",
       "    </tr>\n",
       "    <tr>\n",
       "      <th>671</th>\n",
       "      <td>0.0</td>\n",
       "      <td>1</td>\n",
       "      <td>Davidson, Mr. Thornton</td>\n",
       "      <td>male</td>\n",
       "      <td>31.0</td>\n",
       "      <td>F.C. 12750</td>\n",
       "      <td>52.0000</td>\n",
       "      <td>S</td>\n",
       "      <td>Mr</td>\n",
       "      <td>0</td>\n",
       "    </tr>\n",
       "    <tr>\n",
       "      <th>817</th>\n",
       "      <td>0.0</td>\n",
       "      <td>2</td>\n",
       "      <td>Mallet, Mr. Albert</td>\n",
       "      <td>male</td>\n",
       "      <td>31.0</td>\n",
       "      <td>S.C./PARIS 2079</td>\n",
       "      <td>37.0042</td>\n",
       "      <td>C</td>\n",
       "      <td>Mr</td>\n",
       "      <td>0</td>\n",
       "    </tr>\n",
       "    <tr>\n",
       "      <th>875</th>\n",
       "      <td>1.0</td>\n",
       "      <td>3</td>\n",
       "      <td>Najib, Miss. Adele Kiamie \"Jane\"</td>\n",
       "      <td>female</td>\n",
       "      <td>15.0</td>\n",
       "      <td>2667</td>\n",
       "      <td>7.2250</td>\n",
       "      <td>C</td>\n",
       "      <td>Mrs</td>\n",
       "      <td>1</td>\n",
       "    </tr>\n",
       "    <tr>\n",
       "      <th>186</th>\n",
       "      <td>1.0</td>\n",
       "      <td>3</td>\n",
       "      <td>O'Brien, Mrs. Thomas (Johanna \"Hannah\" Godfrey)</td>\n",
       "      <td>female</td>\n",
       "      <td>27.0</td>\n",
       "      <td>370365</td>\n",
       "      <td>15.5000</td>\n",
       "      <td>Q</td>\n",
       "      <td>Mrs</td>\n",
       "      <td>0</td>\n",
       "    </tr>\n",
       "    <tr>\n",
       "      <th>556</th>\n",
       "      <td>1.0</td>\n",
       "      <td>1</td>\n",
       "      <td>Duff Gordon, Lady. (Lucille Christiana Sutherl...</td>\n",
       "      <td>female</td>\n",
       "      <td>48.0</td>\n",
       "      <td>11755</td>\n",
       "      <td>39.6000</td>\n",
       "      <td>C</td>\n",
       "      <td>Mrs</td>\n",
       "      <td>0</td>\n",
       "    </tr>\n",
       "    <tr>\n",
       "      <th>1002</th>\n",
       "      <td>NaN</td>\n",
       "      <td>3</td>\n",
       "      <td>Shine, Miss. Ellen Natalia</td>\n",
       "      <td>female</td>\n",
       "      <td>27.0</td>\n",
       "      <td>330968</td>\n",
       "      <td>7.7792</td>\n",
       "      <td>Q</td>\n",
       "      <td>Mrs</td>\n",
       "      <td>1</td>\n",
       "    </tr>\n",
       "    <tr>\n",
       "      <th>576</th>\n",
       "      <td>1.0</td>\n",
       "      <td>2</td>\n",
       "      <td>Garside, Miss. Ethel</td>\n",
       "      <td>female</td>\n",
       "      <td>34.0</td>\n",
       "      <td>243880</td>\n",
       "      <td>13.0000</td>\n",
       "      <td>S</td>\n",
       "      <td>Mrs</td>\n",
       "      <td>1</td>\n",
       "    </tr>\n",
       "    <tr>\n",
       "      <th>898</th>\n",
       "      <td>NaN</td>\n",
       "      <td>2</td>\n",
       "      <td>Caldwell, Mr. Albert Francis</td>\n",
       "      <td>male</td>\n",
       "      <td>26.0</td>\n",
       "      <td>248738</td>\n",
       "      <td>29.0000</td>\n",
       "      <td>S</td>\n",
       "      <td>Mr</td>\n",
       "      <td>0</td>\n",
       "    </tr>\n",
       "  </tbody>\n",
       "</table>\n",
       "</div>"
      ],
      "text/plain": [
       "      Survived  Pclass                                               Name  \\\n",
       "1061       NaN       3                                 Lithman, Mr. Simon   \n",
       "323        1.0       2  Caldwell, Mrs. Albert Francis (Sylvia Mae Harb...   \n",
       "671        0.0       1                             Davidson, Mr. Thornton   \n",
       "817        0.0       2                                 Mallet, Mr. Albert   \n",
       "875        1.0       3                   Najib, Miss. Adele Kiamie \"Jane\"   \n",
       "186        1.0       3    O'Brien, Mrs. Thomas (Johanna \"Hannah\" Godfrey)   \n",
       "556        1.0       1  Duff Gordon, Lady. (Lucille Christiana Sutherl...   \n",
       "1002       NaN       3                         Shine, Miss. Ellen Natalia   \n",
       "576        1.0       2                               Garside, Miss. Ethel   \n",
       "898        NaN       2                       Caldwell, Mr. Albert Francis   \n",
       "\n",
       "         Sex   Age           Ticket     Fare Embarked Title  IsAlone  \n",
       "1061    male  30.0    S.O./P.P. 251   7.5500        S    Mr        1  \n",
       "323   female  22.0           248738  29.0000        S   Mrs        0  \n",
       "671     male  31.0       F.C. 12750  52.0000        S    Mr        0  \n",
       "817     male  31.0  S.C./PARIS 2079  37.0042        C    Mr        0  \n",
       "875   female  15.0             2667   7.2250        C   Mrs        1  \n",
       "186   female  27.0           370365  15.5000        Q   Mrs        0  \n",
       "556   female  48.0            11755  39.6000        C   Mrs        0  \n",
       "1002  female  27.0           330968   7.7792        Q   Mrs        1  \n",
       "576   female  34.0           243880  13.0000        S   Mrs        1  \n",
       "898     male  26.0           248738  29.0000        S    Mr        0  "
      ]
     },
     "execution_count": 27,
     "metadata": {},
     "output_type": "execute_result"
    }
   ],
   "source": [
    "combined_data.sample(10)"
   ]
  },
  {
   "cell_type": "markdown",
   "metadata": {},
   "source": [
    "<p>The EDA process above suggest that women and children were prioritized in rescue. If we combine that to the assumption that the member in a family may survive or not together, we can go to the conclusion that in a family, women and children may survive or perish together, that mean we predict survival for women if her children survived and perished if her children perished, and vice versa.To do that, we firstly group members in a same family. Then, we are going to create a new feature to keep the survival rate affected by family factor.</p>\n",
    "<p>In our features, <code>Surname</code> extracted from <code>Name</code> feature is probably the one can be used to group the family.</p>"
   ]
  },
  {
   "cell_type": "code",
   "execution_count": 28,
   "metadata": {},
   "outputs": [],
   "source": [
    "combined_data['Surname'] = combined_data['Name'].str.split(',',expand=True)[0]"
   ]
  },
  {
   "cell_type": "markdown",
   "metadata": {},
   "source": [
    "<p>However, using only <code>Surname</code> to group family may lead to the mistake. Let look at the passengers who have <code>Surname</code> are Brown</p>"
   ]
  },
  {
   "cell_type": "code",
   "execution_count": 29,
   "metadata": {},
   "outputs": [
    {
     "data": {
      "text/html": [
       "<div>\n",
       "<style scoped>\n",
       "    .dataframe tbody tr th:only-of-type {\n",
       "        vertical-align: middle;\n",
       "    }\n",
       "\n",
       "    .dataframe tbody tr th {\n",
       "        vertical-align: top;\n",
       "    }\n",
       "\n",
       "    .dataframe thead th {\n",
       "        text-align: right;\n",
       "    }\n",
       "</style>\n",
       "<table border=\"1\" class=\"dataframe\">\n",
       "  <thead>\n",
       "    <tr style=\"text-align: right;\">\n",
       "      <th></th>\n",
       "      <th>Name</th>\n",
       "      <th>Surname</th>\n",
       "      <th>Ticket</th>\n",
       "      <th>Pclass</th>\n",
       "      <th>Embarked</th>\n",
       "      <th>Fare</th>\n",
       "    </tr>\n",
       "  </thead>\n",
       "  <tbody>\n",
       "    <tr>\n",
       "      <th>194</th>\n",
       "      <td>Brown, Mrs. James Joseph (Margaret Tobin)</td>\n",
       "      <td>Brown</td>\n",
       "      <td>PC 17610</td>\n",
       "      <td>1</td>\n",
       "      <td>C</td>\n",
       "      <td>27.7208</td>\n",
       "    </tr>\n",
       "    <tr>\n",
       "      <th>345</th>\n",
       "      <td>Brown, Miss. Amelia \"Mildred\"</td>\n",
       "      <td>Brown</td>\n",
       "      <td>248733</td>\n",
       "      <td>2</td>\n",
       "      <td>S</td>\n",
       "      <td>13.0000</td>\n",
       "    </tr>\n",
       "    <tr>\n",
       "      <th>670</th>\n",
       "      <td>Brown, Mrs. Thomas William Solomon (Elizabeth ...</td>\n",
       "      <td>Brown</td>\n",
       "      <td>29750</td>\n",
       "      <td>2</td>\n",
       "      <td>S</td>\n",
       "      <td>39.0000</td>\n",
       "    </tr>\n",
       "    <tr>\n",
       "      <th>684</th>\n",
       "      <td>Brown, Mr. Thomas William Solomon</td>\n",
       "      <td>Brown</td>\n",
       "      <td>29750</td>\n",
       "      <td>2</td>\n",
       "      <td>S</td>\n",
       "      <td>39.0000</td>\n",
       "    </tr>\n",
       "    <tr>\n",
       "      <th>1066</th>\n",
       "      <td>Brown, Miss. Edith Eileen</td>\n",
       "      <td>Brown</td>\n",
       "      <td>29750</td>\n",
       "      <td>2</td>\n",
       "      <td>S</td>\n",
       "      <td>39.0000</td>\n",
       "    </tr>\n",
       "    <tr>\n",
       "      <th>1247</th>\n",
       "      <td>Brown, Mrs. John Murray (Caroline Lane Lamson)</td>\n",
       "      <td>Brown</td>\n",
       "      <td>11769</td>\n",
       "      <td>1</td>\n",
       "      <td>S</td>\n",
       "      <td>51.4792</td>\n",
       "    </tr>\n",
       "  </tbody>\n",
       "</table>\n",
       "</div>"
      ],
      "text/plain": [
       "                                                   Name Surname    Ticket  \\\n",
       "194           Brown, Mrs. James Joseph (Margaret Tobin)   Brown  PC 17610   \n",
       "345                       Brown, Miss. Amelia \"Mildred\"   Brown    248733   \n",
       "670   Brown, Mrs. Thomas William Solomon (Elizabeth ...   Brown     29750   \n",
       "684                   Brown, Mr. Thomas William Solomon   Brown     29750   \n",
       "1066                          Brown, Miss. Edith Eileen   Brown     29750   \n",
       "1247     Brown, Mrs. John Murray (Caroline Lane Lamson)   Brown     11769   \n",
       "\n",
       "      Pclass Embarked     Fare  \n",
       "194        1        C  27.7208  \n",
       "345        2        S  13.0000  \n",
       "670        2        S  39.0000  \n",
       "684        2        S  39.0000  \n",
       "1066       2        S  39.0000  \n",
       "1247       1        S  51.4792  "
      ]
     },
     "execution_count": 29,
     "metadata": {},
     "output_type": "execute_result"
    }
   ],
   "source": [
    "combined_data.loc[combined_data['Surname']=='Brown',['Name','Surname','Ticket', 'Pclass', 'Embarked', 'Fare']]"
   ]
  },
  {
   "cell_type": "markdown",
   "metadata": {},
   "source": [
    "<p>The passengers 670, 684 and 1066 have the same Ticket, Pclass and Fare are certainly in same family. But passengers 194, 345 and 1247 have different values in these features, we can believe they not related. Therefore, we will create new stronger feature, namely <code>FamilyTicket</code>, to identify members in the same family. <code>FamilyTicket</code> is formed by <code>Surname, Ticket, Pclass, Fare</code> and <code>Embarked</code>.</p>"
   ]
  },
  {
   "cell_type": "code",
   "execution_count": 30,
   "metadata": {},
   "outputs": [],
   "source": [
    "# Function getTickettoGroup(ticket) to preprocessing ticket to create FamilyTicket\n",
    "def getTickettoGroup(ticket):\n",
    "    ticket = ticket.replace('.', '')\n",
    "    ticket = ticket.replace('/', '')\n",
    "    ticket = ticket[:-1]\n",
    "    return ticket\n",
    "\n",
    "combined_data['Ticketname'] = combined_data['Ticket'].map(getTickettoGroup)\n",
    "\n",
    "# Now, combine Surname, Ticket, Pclass, Fare and Embarked to create new feature FamilyTicket\n",
    "combined_data['FamilyTicket'] = combined_data['Surname'] + combined_data['Ticketname'] + \\\n",
    "                                combined_data['Pclass'].astype(str) + combined_data['Fare'].astype(str) + \\\n",
    "                                combined_data['Embarked']"
   ]
  },
  {
   "cell_type": "markdown",
   "metadata": {},
   "source": [
    "<p>Next, we create feature<code>IsFamily</code> to mark if a certain passenger is alone or travel with family.</p>"
   ]
  },
  {
   "cell_type": "code",
   "execution_count": 31,
   "metadata": {},
   "outputs": [
    {
     "data": {
      "text/plain": [
       "<matplotlib.axes._subplots.AxesSubplot at 0x1ff71025470>"
      ]
     },
     "execution_count": 31,
     "metadata": {},
     "output_type": "execute_result"
    },
    {
     "data": {
      "image/png": "[encoded data removed]",
      "text/plain": [
       "<Figure size 432x288 with 1 Axes>"
      ]
     },
     "metadata": {},
     "output_type": "display_data"
    }
   ],
   "source": [
    "combined_data['IsFamily'] = combined_data['FamilyTicket'].duplicated(keep=False)*1\n",
    "sns.countplot(combined_data['IsFamily'])"
   ]
  },
  {
   "cell_type": "markdown",
   "metadata": {},
   "source": [
    "<p>Now we look at the feature FamilyTicket and IsFamily we have just created.</p>"
   ]
  },
  {
   "cell_type": "code",
   "execution_count": 32,
   "metadata": {},
   "outputs": [
    {
     "data": {
      "text/html": [
       "<div>\n",
       "<style scoped>\n",
       "    .dataframe tbody tr th:only-of-type {\n",
       "        vertical-align: middle;\n",
       "    }\n",
       "\n",
       "    .dataframe tbody tr th {\n",
       "        vertical-align: top;\n",
       "    }\n",
       "\n",
       "    .dataframe thead th {\n",
       "        text-align: right;\n",
       "    }\n",
       "</style>\n",
       "<table border=\"1\" class=\"dataframe\">\n",
       "  <thead>\n",
       "    <tr style=\"text-align: right;\">\n",
       "      <th></th>\n",
       "      <th>Name</th>\n",
       "      <th>Age</th>\n",
       "      <th>Sex</th>\n",
       "      <th>FamilyTicket</th>\n",
       "      <th>IsFamily</th>\n",
       "    </tr>\n",
       "  </thead>\n",
       "  <tbody>\n",
       "    <tr>\n",
       "      <th>845</th>\n",
       "      <td>Abbing, Mr. Anthony</td>\n",
       "      <td>42.0</td>\n",
       "      <td>male</td>\n",
       "      <td>AbbingCA 55437.55S</td>\n",
       "      <td>0</td>\n",
       "    </tr>\n",
       "    <tr>\n",
       "      <th>1283</th>\n",
       "      <td>Abbott, Master. Eugene Joseph</td>\n",
       "      <td>13.0</td>\n",
       "      <td>male</td>\n",
       "      <td>AbbottCA 267320.25S</td>\n",
       "      <td>1</td>\n",
       "    </tr>\n",
       "    <tr>\n",
       "      <th>746</th>\n",
       "      <td>Abbott, Mr. Rossmore Edward</td>\n",
       "      <td>16.0</td>\n",
       "      <td>male</td>\n",
       "      <td>AbbottCA 267320.25S</td>\n",
       "      <td>1</td>\n",
       "    </tr>\n",
       "    <tr>\n",
       "      <th>279</th>\n",
       "      <td>Abbott, Mrs. Stanton (Rosa Hunt)</td>\n",
       "      <td>35.0</td>\n",
       "      <td>female</td>\n",
       "      <td>AbbottCA 267320.25S</td>\n",
       "      <td>1</td>\n",
       "    </tr>\n",
       "    <tr>\n",
       "      <th>948</th>\n",
       "      <td>Abelseth, Mr. Olaus Jorgensen</td>\n",
       "      <td>25.0</td>\n",
       "      <td>male</td>\n",
       "      <td>Abelseth3481237.65S</td>\n",
       "      <td>1</td>\n",
       "    </tr>\n",
       "    <tr>\n",
       "      <th>1236</th>\n",
       "      <td>Abelseth, Miss. Karen Marie</td>\n",
       "      <td>16.0</td>\n",
       "      <td>female</td>\n",
       "      <td>Abelseth3481237.65S</td>\n",
       "      <td>1</td>\n",
       "    </tr>\n",
       "    <tr>\n",
       "      <th>874</th>\n",
       "      <td>Abelson, Mrs. Samuel (Hannah Wizosky)</td>\n",
       "      <td>28.0</td>\n",
       "      <td>female</td>\n",
       "      <td>AbelsonPPP 338224.0C</td>\n",
       "      <td>1</td>\n",
       "    </tr>\n",
       "    <tr>\n",
       "      <th>308</th>\n",
       "      <td>Abelson, Mr. Samuel</td>\n",
       "      <td>30.0</td>\n",
       "      <td>male</td>\n",
       "      <td>AbelsonPPP 338224.0C</td>\n",
       "      <td>1</td>\n",
       "    </tr>\n",
       "    <tr>\n",
       "      <th>1142</th>\n",
       "      <td>Abrahamsson, Mr. Abraham August Johannes</td>\n",
       "      <td>20.0</td>\n",
       "      <td>male</td>\n",
       "      <td>AbrahamssonSOTONO2 31012837.925S</td>\n",
       "      <td>0</td>\n",
       "    </tr>\n",
       "    <tr>\n",
       "      <th>899</th>\n",
       "      <td>Abrahim, Mrs. Joseph (Sophie Halaut Easu)</td>\n",
       "      <td>18.0</td>\n",
       "      <td>female</td>\n",
       "      <td>Abrahim26537.2292C</td>\n",
       "      <td>0</td>\n",
       "    </tr>\n",
       "  </tbody>\n",
       "</table>\n",
       "</div>"
      ],
      "text/plain": [
       "                                           Name   Age     Sex  \\\n",
       "845                         Abbing, Mr. Anthony  42.0    male   \n",
       "1283              Abbott, Master. Eugene Joseph  13.0    male   \n",
       "746                 Abbott, Mr. Rossmore Edward  16.0    male   \n",
       "279            Abbott, Mrs. Stanton (Rosa Hunt)  35.0  female   \n",
       "948               Abelseth, Mr. Olaus Jorgensen  25.0    male   \n",
       "1236                Abelseth, Miss. Karen Marie  16.0  female   \n",
       "874       Abelson, Mrs. Samuel (Hannah Wizosky)  28.0  female   \n",
       "308                         Abelson, Mr. Samuel  30.0    male   \n",
       "1142   Abrahamsson, Mr. Abraham August Johannes  20.0    male   \n",
       "899   Abrahim, Mrs. Joseph (Sophie Halaut Easu)  18.0  female   \n",
       "\n",
       "                          FamilyTicket  IsFamily  \n",
       "845                 AbbingCA 55437.55S         0  \n",
       "1283               AbbottCA 267320.25S         1  \n",
       "746                AbbottCA 267320.25S         1  \n",
       "279                AbbottCA 267320.25S         1  \n",
       "948                Abelseth3481237.65S         1  \n",
       "1236               Abelseth3481237.65S         1  \n",
       "874               AbelsonPPP 338224.0C         1  \n",
       "308               AbelsonPPP 338224.0C         1  \n",
       "1142  AbrahamssonSOTONO2 31012837.925S         0  \n",
       "899                 Abrahim26537.2292C         0  "
      ]
     },
     "execution_count": 32,
     "metadata": {},
     "output_type": "execute_result"
    }
   ],
   "source": [
    "combined_data[['Name', 'Age', 'Sex', 'FamilyTicket', 'IsFamily']].sort_values('FamilyTicket').head(10)"
   ]
  },
  {
   "cell_type": "markdown",
   "metadata": {},
   "source": [
    "<p>Our feature <code>FamilyTicket</code> now look nice. We can see the Abbotts with Mrs Abbott and her son and daughter are grouped correctly. Next, we are going to identify families who have children and assign family ID for these familes. Passengers who are in a same family having children will have the same family ID.</p>"
   ]
  },
  {
   "cell_type": "code",
   "execution_count": 33,
   "metadata": {},
   "outputs": [],
   "source": [
    "combined_data['isChild'] = combined_data.Age.map(lambda x: 1 if x<=16 else 0)\n",
    "FamilyHavingChildren = combined_data[(combined_data['IsFamily']==1)&(combined_data['isChild']==1)]['FamilyTicket'].unique()\n",
    "combined_data['FamilyID'] = 0\n",
    "temp = 1\n",
    "for family in FamilyHavingChildren:\n",
    "    combined_data.loc[(combined_data['FamilyTicket'] == family), ['FamilyID']] = temp\n",
    "    temp+=1"
   ]
  },
  {
   "cell_type": "markdown",
   "metadata": {},
   "source": [
    "<p>Let check five family that have ID from 1 to 5</p>"
   ]
  },
  {
   "cell_type": "code",
   "execution_count": 34,
   "metadata": {},
   "outputs": [
    {
     "data": {
      "text/html": [
       "<div>\n",
       "<style scoped>\n",
       "    .dataframe tbody tr th:only-of-type {\n",
       "        vertical-align: middle;\n",
       "    }\n",
       "\n",
       "    .dataframe tbody tr th {\n",
       "        vertical-align: top;\n",
       "    }\n",
       "\n",
       "    .dataframe thead th {\n",
       "        text-align: right;\n",
       "    }\n",
       "</style>\n",
       "<table border=\"1\" class=\"dataframe\">\n",
       "  <thead>\n",
       "    <tr style=\"text-align: right;\">\n",
       "      <th></th>\n",
       "      <th>Name</th>\n",
       "      <th>Age</th>\n",
       "      <th>Title</th>\n",
       "      <th>FamilyTicket</th>\n",
       "      <th>FamilyID</th>\n",
       "      <th>Survived</th>\n",
       "    </tr>\n",
       "  </thead>\n",
       "  <tbody>\n",
       "    <tr>\n",
       "      <th>7</th>\n",
       "      <td>Palsson, Master. Gosta Leonard</td>\n",
       "      <td>2.0</td>\n",
       "      <td>Master</td>\n",
       "      <td>Palsson34990321.075S</td>\n",
       "      <td>1</td>\n",
       "      <td>0.0</td>\n",
       "    </tr>\n",
       "    <tr>\n",
       "      <th>567</th>\n",
       "      <td>Palsson, Mrs. Nils (Alma Cornelia Berglund)</td>\n",
       "      <td>29.0</td>\n",
       "      <td>Mrs</td>\n",
       "      <td>Palsson34990321.075S</td>\n",
       "      <td>1</td>\n",
       "      <td>0.0</td>\n",
       "    </tr>\n",
       "    <tr>\n",
       "      <th>374</th>\n",
       "      <td>Palsson, Miss. Stina Viola</td>\n",
       "      <td>3.0</td>\n",
       "      <td>Mrs</td>\n",
       "      <td>Palsson34990321.075S</td>\n",
       "      <td>1</td>\n",
       "      <td>0.0</td>\n",
       "    </tr>\n",
       "    <tr>\n",
       "      <th>24</th>\n",
       "      <td>Palsson, Miss. Torborg Danira</td>\n",
       "      <td>8.0</td>\n",
       "      <td>Mrs</td>\n",
       "      <td>Palsson34990321.075S</td>\n",
       "      <td>1</td>\n",
       "      <td>0.0</td>\n",
       "    </tr>\n",
       "    <tr>\n",
       "      <th>1280</th>\n",
       "      <td>Palsson, Master. Paul Folke</td>\n",
       "      <td>6.0</td>\n",
       "      <td>Master</td>\n",
       "      <td>Palsson34990321.075S</td>\n",
       "      <td>1</td>\n",
       "      <td>NaN</td>\n",
       "    </tr>\n",
       "    <tr>\n",
       "      <th>122</th>\n",
       "      <td>Nasser, Mr. Nicholas</td>\n",
       "      <td>32.5</td>\n",
       "      <td>Mr</td>\n",
       "      <td>Nasser23773230.0708C</td>\n",
       "      <td>2</td>\n",
       "      <td>0.0</td>\n",
       "    </tr>\n",
       "    <tr>\n",
       "      <th>9</th>\n",
       "      <td>Nasser, Mrs. Nicholas (Adele Achem)</td>\n",
       "      <td>14.0</td>\n",
       "      <td>Mrs</td>\n",
       "      <td>Nasser23773230.0708C</td>\n",
       "      <td>2</td>\n",
       "      <td>1.0</td>\n",
       "    </tr>\n",
       "    <tr>\n",
       "      <th>1008</th>\n",
       "      <td>Sandstrom, Miss. Beatrice Irene</td>\n",
       "      <td>1.0</td>\n",
       "      <td>Mrs</td>\n",
       "      <td>SandstromPP 954316.7S</td>\n",
       "      <td>3</td>\n",
       "      <td>NaN</td>\n",
       "    </tr>\n",
       "    <tr>\n",
       "      <th>10</th>\n",
       "      <td>Sandstrom, Miss. Marguerite Rut</td>\n",
       "      <td>4.0</td>\n",
       "      <td>Mrs</td>\n",
       "      <td>SandstromPP 954316.7S</td>\n",
       "      <td>3</td>\n",
       "      <td>1.0</td>\n",
       "    </tr>\n",
       "    <tr>\n",
       "      <th>394</th>\n",
       "      <td>Sandstrom, Mrs. Hjalmar (Agnes Charlotta Bengt...</td>\n",
       "      <td>24.0</td>\n",
       "      <td>Mrs</td>\n",
       "      <td>SandstromPP 954316.7S</td>\n",
       "      <td>3</td>\n",
       "      <td>1.0</td>\n",
       "    </tr>\n",
       "    <tr>\n",
       "      <th>278</th>\n",
       "      <td>Rice, Master. Eric</td>\n",
       "      <td>7.0</td>\n",
       "      <td>Master</td>\n",
       "      <td>Rice38265329.125Q</td>\n",
       "      <td>4</td>\n",
       "      <td>0.0</td>\n",
       "    </tr>\n",
       "    <tr>\n",
       "      <th>787</th>\n",
       "      <td>Rice, Master. George Hugh</td>\n",
       "      <td>8.0</td>\n",
       "      <td>Master</td>\n",
       "      <td>Rice38265329.125Q</td>\n",
       "      <td>4</td>\n",
       "      <td>0.0</td>\n",
       "    </tr>\n",
       "    <tr>\n",
       "      <th>885</th>\n",
       "      <td>Rice, Mrs. William (Margaret Norton)</td>\n",
       "      <td>39.0</td>\n",
       "      <td>Mrs</td>\n",
       "      <td>Rice38265329.125Q</td>\n",
       "      <td>4</td>\n",
       "      <td>0.0</td>\n",
       "    </tr>\n",
       "    <tr>\n",
       "      <th>946</th>\n",
       "      <td>Rice, Master. Albert</td>\n",
       "      <td>10.0</td>\n",
       "      <td>Master</td>\n",
       "      <td>Rice38265329.125Q</td>\n",
       "      <td>4</td>\n",
       "      <td>NaN</td>\n",
       "    </tr>\n",
       "    <tr>\n",
       "      <th>16</th>\n",
       "      <td>Rice, Master. Eugene</td>\n",
       "      <td>2.0</td>\n",
       "      <td>Master</td>\n",
       "      <td>Rice38265329.125Q</td>\n",
       "      <td>4</td>\n",
       "      <td>0.0</td>\n",
       "    </tr>\n",
       "    <tr>\n",
       "      <th>171</th>\n",
       "      <td>Rice, Master. Arthur</td>\n",
       "      <td>4.0</td>\n",
       "      <td>Master</td>\n",
       "      <td>Rice38265329.125Q</td>\n",
       "      <td>4</td>\n",
       "      <td>0.0</td>\n",
       "    </tr>\n",
       "    <tr>\n",
       "      <th>39</th>\n",
       "      <td>Nicola-Yarred, Miss. Jamila</td>\n",
       "      <td>14.0</td>\n",
       "      <td>Mrs</td>\n",
       "      <td>Nicola-Yarred265311.2417C</td>\n",
       "      <td>5</td>\n",
       "      <td>1.0</td>\n",
       "    </tr>\n",
       "    <tr>\n",
       "      <th>125</th>\n",
       "      <td>Nicola-Yarred, Master. Elias</td>\n",
       "      <td>12.0</td>\n",
       "      <td>Master</td>\n",
       "      <td>Nicola-Yarred265311.2417C</td>\n",
       "      <td>5</td>\n",
       "      <td>1.0</td>\n",
       "    </tr>\n",
       "  </tbody>\n",
       "</table>\n",
       "</div>"
      ],
      "text/plain": [
       "                                                   Name   Age   Title  \\\n",
       "7                        Palsson, Master. Gosta Leonard   2.0  Master   \n",
       "567         Palsson, Mrs. Nils (Alma Cornelia Berglund)  29.0     Mrs   \n",
       "374                          Palsson, Miss. Stina Viola   3.0     Mrs   \n",
       "24                        Palsson, Miss. Torborg Danira   8.0     Mrs   \n",
       "1280                        Palsson, Master. Paul Folke   6.0  Master   \n",
       "122                                Nasser, Mr. Nicholas  32.5      Mr   \n",
       "9                   Nasser, Mrs. Nicholas (Adele Achem)  14.0     Mrs   \n",
       "1008                    Sandstrom, Miss. Beatrice Irene   1.0     Mrs   \n",
       "10                      Sandstrom, Miss. Marguerite Rut   4.0     Mrs   \n",
       "394   Sandstrom, Mrs. Hjalmar (Agnes Charlotta Bengt...  24.0     Mrs   \n",
       "278                                  Rice, Master. Eric   7.0  Master   \n",
       "787                           Rice, Master. George Hugh   8.0  Master   \n",
       "885                Rice, Mrs. William (Margaret Norton)  39.0     Mrs   \n",
       "946                                Rice, Master. Albert  10.0  Master   \n",
       "16                                 Rice, Master. Eugene   2.0  Master   \n",
       "171                                Rice, Master. Arthur   4.0  Master   \n",
       "39                          Nicola-Yarred, Miss. Jamila  14.0     Mrs   \n",
       "125                        Nicola-Yarred, Master. Elias  12.0  Master   \n",
       "\n",
       "                   FamilyTicket  FamilyID  Survived  \n",
       "7          Palsson34990321.075S         1       0.0  \n",
       "567        Palsson34990321.075S         1       0.0  \n",
       "374        Palsson34990321.075S         1       0.0  \n",
       "24         Palsson34990321.075S         1       0.0  \n",
       "1280       Palsson34990321.075S         1       NaN  \n",
       "122        Nasser23773230.0708C         2       0.0  \n",
       "9          Nasser23773230.0708C         2       1.0  \n",
       "1008      SandstromPP 954316.7S         3       NaN  \n",
       "10        SandstromPP 954316.7S         3       1.0  \n",
       "394       SandstromPP 954316.7S         3       1.0  \n",
       "278           Rice38265329.125Q         4       0.0  \n",
       "787           Rice38265329.125Q         4       0.0  \n",
       "885           Rice38265329.125Q         4       0.0  \n",
       "946           Rice38265329.125Q         4       NaN  \n",
       "16            Rice38265329.125Q         4       0.0  \n",
       "171           Rice38265329.125Q         4       0.0  \n",
       "39    Nicola-Yarred265311.2417C         5       1.0  \n",
       "125   Nicola-Yarred265311.2417C         5       1.0  "
      ]
     },
     "execution_count": 34,
     "metadata": {},
     "output_type": "execute_result"
    }
   ],
   "source": [
    "combined_data[['Name', 'Age','Title','FamilyTicket', 'FamilyID', 'Survived']]\\\n",
    "[combined_data['FamilyID'].isin([1,2,3,4,5])].sort_values('FamilyID')"
   ]
  },
  {
   "cell_type": "markdown",
   "metadata": {},
   "source": [
    "<p>Now we are going to visualize the ralationship among the members in a same familyby using stacked bar chart. in chart below, each bar is a family having children, we use <strong>green</strong> for passengers who survived, <strong>black</strong> for ones who did not and <strong>gray</strong> for passengers who we need to predict.</p>"
   ]
  },
  {
   "cell_type": "code",
   "execution_count": 35,
   "metadata": {},
   "outputs": [
    {
     "data": {
      "text/plain": [
       "<matplotlib.axes._subplots.AxesSubplot at 0x1ff7335f518>"
      ]
     },
     "execution_count": 35,
     "metadata": {},
     "output_type": "execute_result"
    },
    {
     "data": {
      "image/png": "[encoded data removed]",
      "text/plain": [
       "<Figure size 1296x576 with 1 Axes>"
      ]
     },
     "metadata": {},
     "output_type": "display_data"
    }
   ],
   "source": [
    "combined_data['FamilySurvivalConnection'] = combined_data['Survived'].fillna(2)\n",
    "pd.crosstab(combined_data.FamilyID, \n",
    "            combined_data.FamilySurvivalConnection).drop([0]).plot(kind='bar',\n",
    "                                                                   stacked=True, \n",
    "                                                                   color=['black', 'green', 'grey'], \n",
    "                                                                   figsize=(18, 8))"
   ]
  },
  {
   "cell_type": "markdown",
   "metadata": {},
   "source": [
    "<p>We can see that most of families have only green or black instead of having both. That confirms our assumption that the members in a same family war likely to suvive or perish together. Now we are going to create a new feature to describe this property, we call this feature <code>FamilySurvival</code>. This feature has common value 0.5. But if a certain family had its all children or woman perish, this feature for all members is 0, otherwise it has value 1.</p>"
   ]
  },
  {
   "cell_type": "code",
   "execution_count": 36,
   "metadata": {},
   "outputs": [],
   "source": [
    "combined_data['FamilySurvival'] = 0.5\n",
    "combined_data['Survived']=combined_data['Survived'].fillna(0)\n",
    "Survived_by_FamilyID = combined_data.groupby('FamilyID')\n",
    "number_of_family = len(FamilyHavingChildren)\n",
    "temp_rate = 0.5\n",
    "for i in range(1,number_of_family + 1):\n",
    "    temp_df = Survived_by_FamilyID.get_group(i)\n",
    "    temp_rate = temp_df.loc[(temp_df.isChild == 1) | (temp_df.Title=='Mrs')]['Survived'].sum()\n",
    "    if temp_rate == 0:\n",
    "        combined_data.loc[(combined_data.FamilyID==i) & ((combined_data.Title == 'Mrs')|(combined_data.isChild ==1)), \n",
    "                          ['FamilySurvival']] = 0\n",
    "    else:\n",
    "        combined_data.loc[(combined_data.FamilyID==i) & ((combined_data.Title == 'Mrs')|(combined_data.isChild ==1)), \n",
    "                          ['FamilySurvival']] = 1\n",
    "#     if temp_rate == 0:\n",
    "#         combined_data.loc[(combined_data.FamilyID==i), ['FamilySurvival']] = 0\n",
    "#     else:\n",
    "#         combined_data.loc[(combined_data.FamilyID==i), ['FamilySurvival']] = 1"
   ]
  },
  {
   "cell_type": "markdown",
   "metadata": {},
   "source": [
    "## 5. Converting data format"
   ]
  },
  {
   "cell_type": "code",
   "execution_count": 37,
   "metadata": {},
   "outputs": [],
   "source": [
    "# Feature Transformation\n",
    "combined_data['AgeBin'] = pd.qcut(combined_data['Age'], 5)\n",
    "combined_data['FareBin'] = pd.qcut(combined_data['Fare'], 5)\n",
    "\n",
    "label = LabelEncoder()\n",
    "combined_data['AgeBin_Code'] = label.fit_transform(combined_data['AgeBin'])\n",
    "combined_data['FareBin_Code'] = label.fit_transform(combined_data['FareBin'])\n",
    "combined_data['Title_Code'] = combined_data['Title'].map({'Mr':0,'Mrs':1, 'Master':2}).astype('int')\n",
    "combined_data['Sex_Code'] = combined_data['Sex'].map({'male':0, 'female':1}).astype('int')\n",
    "combined_data['Embarked_Code'] = combined_data['Embarked'].map({'S':0, 'C':1, 'Q':2}).astype('int')"
   ]
  },
  {
   "cell_type": "code",
   "execution_count": 38,
   "metadata": {},
   "outputs": [
    {
     "data": {
      "text/plain": [
       "array(['Survived', 'Pclass', 'Name', 'Sex', 'Age', 'Ticket', 'Fare',\n",
       "       'Embarked', 'Title', 'IsAlone', 'Surname', 'Ticketname',\n",
       "       'FamilyTicket', 'IsFamily', 'isChild', 'FamilyID',\n",
       "       'FamilySurvivalConnection', 'FamilySurvival', 'AgeBin', 'FareBin',\n",
       "       'AgeBin_Code', 'FareBin_Code', 'Title_Code', 'Sex_Code',\n",
       "       'Embarked_Code'], dtype=object)"
      ]
     },
     "execution_count": 38,
     "metadata": {},
     "output_type": "execute_result"
    }
   ],
   "source": [
    "combined_data.columns.values"
   ]
  },
  {
   "cell_type": "code",
   "execution_count": 39,
   "metadata": {},
   "outputs": [],
   "source": [
    "combined_data.drop(['Survived', 'Name', 'Sex', 'Age', 'Ticket', 'Fare', \n",
    "                    'Embarked', 'Title', 'Surname', 'Ticketname', 'FamilyTicket',\n",
    "                    'IsFamily', 'isChild', 'FamilyID', 'FamilySurvivalConnection',\n",
    "                    'AgeBin', 'FareBin'], axis=1, inplace=True)"
   ]
  },
  {
   "cell_type": "markdown",
   "metadata": {},
   "source": [
    "## 6. Modeling\n",
    "### 6.1 Model Selection"
   ]
  },
  {
   "cell_type": "code",
   "execution_count": 40,
   "metadata": {},
   "outputs": [],
   "source": [
    "y = train_data['Survived']\n",
    "X = combined_data.iloc[:len(y)]\n",
    "df_test = combined_data.iloc[len(y):]"
   ]
  },
  {
   "cell_type": "code",
   "execution_count": 41,
   "metadata": {},
   "outputs": [
    {
     "name": "stdout",
     "output_type": "stream",
     "text": [
      "X shape: (891, 8)\n",
      "y shape: (891,)\n",
      "df_test shape: (418, 8)\n"
     ]
    },
    {
     "data": {
      "text/plain": [
       "Index(['Pclass', 'IsAlone', 'FamilySurvival', 'AgeBin_Code', 'FareBin_Code',\n",
       "       'Title_Code', 'Sex_Code', 'Embarked_Code'],\n",
       "      dtype='object')"
      ]
     },
     "execution_count": 41,
     "metadata": {},
     "output_type": "execute_result"
    }
   ],
   "source": [
    "print('X shape:', X.shape)\n",
    "print('y shape:', y.shape)\n",
    "print('df_test shape:', df_test.shape)\n",
    "X.columns"
   ]
  },
  {
   "cell_type": "code",
   "execution_count": 42,
   "metadata": {},
   "outputs": [],
   "source": [
    "X_train, X_test, y_train, y_test = train_test_split(X, y, test_size = 0.2, random_state=42)"
   ]
  },
  {
   "cell_type": "code",
   "execution_count": 43,
   "metadata": {},
   "outputs": [
    {
     "data": {
      "text/html": [
       "<div>\n",
       "<style scoped>\n",
       "    .dataframe tbody tr th:only-of-type {\n",
       "        vertical-align: middle;\n",
       "    }\n",
       "\n",
       "    .dataframe tbody tr th {\n",
       "        vertical-align: top;\n",
       "    }\n",
       "\n",
       "    .dataframe thead th {\n",
       "        text-align: right;\n",
       "    }\n",
       "</style>\n",
       "<table border=\"1\" class=\"dataframe\">\n",
       "  <thead>\n",
       "    <tr style=\"text-align: right;\">\n",
       "      <th></th>\n",
       "      <th>Name</th>\n",
       "      <th>Train Accuracy</th>\n",
       "    </tr>\n",
       "  </thead>\n",
       "  <tbody>\n",
       "    <tr>\n",
       "      <th>2</th>\n",
       "      <td>DecisionTreeClassifier</td>\n",
       "      <td>89.6067</td>\n",
       "    </tr>\n",
       "    <tr>\n",
       "      <th>3</th>\n",
       "      <td>RandomForestClassifier</td>\n",
       "      <td>89.6067</td>\n",
       "    </tr>\n",
       "    <tr>\n",
       "      <th>0</th>\n",
       "      <td>LogisticRegression</td>\n",
       "      <td>85.5337</td>\n",
       "    </tr>\n",
       "    <tr>\n",
       "      <th>1</th>\n",
       "      <td>SVC</td>\n",
       "      <td>85.5337</td>\n",
       "    </tr>\n",
       "  </tbody>\n",
       "</table>\n",
       "</div>"
      ],
      "text/plain": [
       "                     Name Train Accuracy\n",
       "2  DecisionTreeClassifier        89.6067\n",
       "3  RandomForestClassifier        89.6067\n",
       "0      LogisticRegression        85.5337\n",
       "1                     SVC        85.5337"
      ]
     },
     "execution_count": 43,
     "metadata": {},
     "output_type": "execute_result"
    }
   ],
   "source": [
    "models = [LogisticRegression(random_state=42),\n",
    "         SVC(probability=True, random_state=42),\n",
    "         DecisionTreeClassifier(random_state = 42),\n",
    "         RandomForestClassifier(random_state = 42)]\n",
    "models_columns = ['Name','Train Accuracy']\n",
    "models_compare = pd.DataFrame(columns=models_columns)\n",
    "temp = 0\n",
    "for model in models:\n",
    "    model_name = model.__class__.__name__\n",
    "    models_compare.loc[temp,'Name'] = model_name\n",
    "    model.fit(X_train, y_train)\n",
    "    models_compare.loc[temp,'Train Accuracy'] = model.score(X_train, y_train)*100\n",
    "    temp+=1\n",
    "models_compare.sort_values(by = ['Train Accuracy'], ascending = False, inplace = True)\n",
    "models_compare"
   ]
  },
  {
   "cell_type": "code",
   "execution_count": 44,
   "metadata": {},
   "outputs": [
    {
     "data": {
      "text/html": [
       "<div>\n",
       "<style scoped>\n",
       "    .dataframe tbody tr th:only-of-type {\n",
       "        vertical-align: middle;\n",
       "    }\n",
       "\n",
       "    .dataframe tbody tr th {\n",
       "        vertical-align: top;\n",
       "    }\n",
       "\n",
       "    .dataframe thead th {\n",
       "        text-align: right;\n",
       "    }\n",
       "</style>\n",
       "<table border=\"1\" class=\"dataframe\">\n",
       "  <thead>\n",
       "    <tr style=\"text-align: right;\">\n",
       "      <th></th>\n",
       "      <th>Name</th>\n",
       "      <th>Test Accuracy</th>\n",
       "    </tr>\n",
       "  </thead>\n",
       "  <tbody>\n",
       "    <tr>\n",
       "      <th>3</th>\n",
       "      <td>RandomForestClassifier</td>\n",
       "      <td>85.4749</td>\n",
       "    </tr>\n",
       "    <tr>\n",
       "      <th>1</th>\n",
       "      <td>SVC</td>\n",
       "      <td>84.3575</td>\n",
       "    </tr>\n",
       "    <tr>\n",
       "      <th>2</th>\n",
       "      <td>DecisionTreeClassifier</td>\n",
       "      <td>84.3575</td>\n",
       "    </tr>\n",
       "    <tr>\n",
       "      <th>0</th>\n",
       "      <td>LogisticRegression</td>\n",
       "      <td>83.7989</td>\n",
       "    </tr>\n",
       "  </tbody>\n",
       "</table>\n",
       "</div>"
      ],
      "text/plain": [
       "                     Name Test Accuracy\n",
       "3  RandomForestClassifier       85.4749\n",
       "1                     SVC       84.3575\n",
       "2  DecisionTreeClassifier       84.3575\n",
       "0      LogisticRegression       83.7989"
      ]
     },
     "execution_count": 44,
     "metadata": {},
     "output_type": "execute_result"
    }
   ],
   "source": [
    "models_columns = ['Name','Test Accuracy']\n",
    "models_compare = pd.DataFrame(columns=models_columns)\n",
    "temp = 0\n",
    "for model in models:\n",
    "    model_name = model.__class__.__name__\n",
    "    models_compare.loc[temp,'Name'] = model_name\n",
    "    test_accuracy = accuracy_score(y_test,model.predict(X_test))\n",
    "#     cnf_matrix = confusion_matrix(y_test,model.predict(X_test))\n",
    "    models_compare.loc[temp,'Test Accuracy'] = test_accuracy*100\n",
    "    temp+=1\n",
    "models_compare.sort_values(by = ['Test Accuracy'], ascending = False, inplace = True)\n",
    "models_compare"
   ]
  },
  {
   "cell_type": "markdown",
   "metadata": {},
   "source": [
    "### 6.2 Tune Model with Feature Selection"
   ]
  },
  {
   "cell_type": "code",
   "execution_count": 45,
   "metadata": {},
   "outputs": [
    {
     "data": {
      "image/png": "[encoded data removed]",
      "text/plain": [
       "<Figure size 1080x576 with 1 Axes>"
      ]
     },
     "metadata": {},
     "output_type": "display_data"
    }
   ],
   "source": [
    "rfc = RandomForestClassifier(n_estimators = 200, random_state = 42)\n",
    "rfc.fit(X_train, y_train)\n",
    "importance = pd.DataFrame({'feature':X.columns, 'importance':np.round(rfc.feature_importances_,3)})\n",
    "importance = importance.sort_values('importance', ascending=False).set_index('feature')\n",
    "importance.plot(kind='bar', rot=0, figsize=(15,8))\n",
    "plt.show()"
   ]
  },
  {
   "cell_type": "code",
   "execution_count": 46,
   "metadata": {},
   "outputs": [],
   "source": [
    "features_selected = ['Title_Code','Sex_Code','FamilySurvival','FareBin_Code','Pclass']"
   ]
  },
  {
   "cell_type": "markdown",
   "metadata": {},
   "source": [
    "### 6.3 Tune Model with Hyper-Parameters"
   ]
  },
  {
   "cell_type": "code",
   "execution_count": 47,
   "metadata": {},
   "outputs": [],
   "source": [
    "grid_param = {'n_estimators':[100,200, 300],\n",
    "             'criterion':['gini','entropy'],\n",
    "             'min_samples_split':[2, 10, 20],\n",
    "             'min_samples_leaf':[1,5],\n",
    "             'bootstrap':[True, False]}\n",
    "\n",
    "grid_rfc = GridSearchCV(estimator = rfc,\n",
    "                    param_grid = grid_param,\n",
    "                    scoring = 'accuracy',\n",
    "                    cv = 5,\n",
    "                    n_jobs = -1)\n",
    "\n",
    "grid_rfc.fit(X_train[features_selected], y_train)\n",
    "rfc = grid_rfc.best_estimator_"
   ]
  },
  {
   "cell_type": "code",
   "execution_count": 48,
   "metadata": {},
   "outputs": [
    {
     "name": "stdout",
     "output_type": "stream",
     "text": [
      "[0.84615385 0.86013986 0.88028169 0.85211268 0.87323944]\n",
      "----------\n",
      "0.8623855018221216\n"
     ]
    }
   ],
   "source": [
    "all_accuracies = cross_val_score(estimator=rfc, X=X_train[features_selected], y=y_train, cv=5)\n",
    "print(all_accuracies)\n",
    "print('-'*10)\n",
    "print(all_accuracies.mean())"
   ]
  },
  {
   "cell_type": "markdown",
   "metadata": {},
   "source": [
    "## 7. Submission"
   ]
  },
  {
   "cell_type": "code",
   "execution_count": 49,
   "metadata": {},
   "outputs": [],
   "source": [
    "df_test = df_test[features_selected]\n",
    "rfc.fit(X_train[features_selected],y_train)\n",
    "prediction = rfc.predict(df_test)\n",
    "df_submission = pd.DataFrame({'PassengerId':test_data.PassengerId, 'Survived':prediction.astype(int)})\n",
    "df_submission.to_csv('submission.csv', index=False)"
   ]
  }
 ],
 "metadata": {
  "kernelspec": {
   "display_name": "Python 3",
   "language": "python",
   "name": "python3"
  },
  "language_info": {
   "codemirror_mode": {
    "name": "ipython",
    "version": 3
   },
   "file_extension": ".py",
   "mimetype": "text/x-python",
   "name": "python",
   "nbconvert_exporter": "python",
   "pygments_lexer": "ipython3",
   "version": "3.7.3"
  }
 },
 "nbformat": 4,
 "nbformat_minor": 4
}
